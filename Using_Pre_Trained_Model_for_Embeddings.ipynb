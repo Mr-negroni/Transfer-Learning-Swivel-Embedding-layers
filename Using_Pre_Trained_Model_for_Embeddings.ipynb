{
  "nbformat": 4,
  "nbformat_minor": 0,
  "metadata": {
    "colab": {
      "name": "Using Pre Trained Model for Embeddings.ipynb",
      "provenance": []
    },
    "kernelspec": {
      "name": "python3",
      "display_name": "Python 3"
    },
    "language_info": {
      "name": "python"
    }
  },
  "cells": [
    {
      "cell_type": "code",
      "execution_count": null,
      "metadata": {
        "colab": {
          "base_uri": "https://localhost:8080/"
        },
        "id": "KFKL9gRJLI1o",
        "outputId": "6e091fe4-5585-4acc-d64a-7c7c7d7594db"
      },
      "outputs": [
        {
          "output_type": "stream",
          "name": "stderr",
          "text": [
            "[nltk_data] Downloading package stopwords to /root/nltk_data...\n",
            "[nltk_data]   Unzipping corpora/stopwords.zip.\n"
          ]
        }
      ],
      "source": [
        "import json\n",
        "import string\n",
        "from bs4 import BeautifulSoup\n",
        "import nltk\n",
        "from nltk.corpus import stopwords\n",
        "nltk.download('stopwords')\n",
        "stopwords = stopwords.words('english')\n",
        "table = str.maketrans('','',string.punctuation)\n",
        "with open(\"Sarcasm_Headlines_Dataset.json\", 'r') as f:\n",
        "  datastore = [json.loads(line) for line in f]\n",
        "sentences = []\n",
        "labels = []\n",
        "urls = []\n",
        "for item in datastore:\n",
        "  sentence = item['headline'].lower()\n",
        "  sentence = sentence.replace(\",\", \" , \")\n",
        "  sentence = sentence.replace(\".\", \" . \")\n",
        "  sentence = sentence.replace(\"-\", \" - \")\n",
        "  sentence = sentence.replace(\"/\", \" / \")\n",
        "  soup = BeautifulSoup(sentence)\n",
        "  sentence = soup.get_text()\n",
        "  words = sentence.split()\n",
        "  filtered_sentence = \"\"\n",
        "  for word in words:\n",
        "   word = word.translate(table)\n",
        "   if word not in stopwords:\n",
        "     filtered_sentence = filtered_sentence + word + \" \"\n",
        "  sentences.append(filtered_sentence)\n",
        "  labels.append(item['is_sarcastic'])\n",
        "  urls.append(item['article_link'])\n",
        "  training_size = 25000\n",
        "tr_sentences = sentences[0:training_size]\n",
        "tr_labels = labels[0:training_size]\n",
        "t_sentences = sentences[training_size:]\n",
        "t_labels = labels[training_size:]\n"
      ]
    },
    {
      "cell_type": "code",
      "source": [
        "import tensorflow_hub as hub\n",
        "import tensorflow as tf\n",
        "hub_layer = hub.KerasLayer(\n",
        " \"https://tfhub.dev/google/tf2-preview/gnews-swivel-20dim/1\",\n",
        " output_shape=[20], input_shape=[],\n",
        " dtype=tf.string, trainable=False\n",
        ")"
      ],
      "metadata": {
        "id": "SWTA8n4_Rx21"
      },
      "execution_count": null,
      "outputs": []
    },
    {
      "cell_type": "code",
      "source": [
        "model = tf.keras.Sequential([\n",
        " hub_layer,\n",
        " tf.keras.layers.Dense(16, activation='relu'),\n",
        " tf.keras.layers.Dense(1, activation='sigmoid')\n",
        "])\n",
        "adam = tf.keras.optimizers.Adam(learning_rate=0.0001, beta_1=0.9,\n",
        " beta_2=0.999, amsgrad=False)\n",
        "model.compile(loss='binary_crossentropy',optimizer=adam,\n",
        " metrics=['accuracy'])\n"
      ],
      "metadata": {
        "id": "li009kgTSR4n"
      },
      "execution_count": null,
      "outputs": []
    },
    {
      "cell_type": "code",
      "source": [
        "model.fit(tr_sentences,tr_labels,epochs = 50)"
      ],
      "metadata": {
        "colab": {
          "base_uri": "https://localhost:8080/"
        },
        "id": "BxjgbEAPSv6t",
        "outputId": "67521ff7-25c1-439e-8428-dece93f8f37d"
      },
      "execution_count": null,
      "outputs": [
        {
          "output_type": "stream",
          "name": "stdout",
          "text": [
            "Epoch 1/50\n",
            "782/782 [==============================] - 1s 2ms/step - loss: 0.6461 - accuracy: 0.6353\n",
            "Epoch 2/50\n",
            "782/782 [==============================] - 1s 2ms/step - loss: 0.6419 - accuracy: 0.6394\n",
            "Epoch 3/50\n",
            "782/782 [==============================] - 1s 2ms/step - loss: 0.6385 - accuracy: 0.6442\n",
            "Epoch 4/50\n",
            "782/782 [==============================] - 1s 2ms/step - loss: 0.6357 - accuracy: 0.6472\n",
            "Epoch 5/50\n",
            "782/782 [==============================] - 1s 2ms/step - loss: 0.6332 - accuracy: 0.6505\n",
            "Epoch 6/50\n",
            "782/782 [==============================] - 1s 2ms/step - loss: 0.6310 - accuracy: 0.6528\n",
            "Epoch 7/50\n",
            "782/782 [==============================] - 1s 2ms/step - loss: 0.6292 - accuracy: 0.6538\n",
            "Epoch 8/50\n",
            "782/782 [==============================] - 1s 2ms/step - loss: 0.6276 - accuracy: 0.6543\n",
            "Epoch 9/50\n",
            "782/782 [==============================] - 1s 2ms/step - loss: 0.6262 - accuracy: 0.6565\n",
            "Epoch 10/50\n",
            "782/782 [==============================] - 1s 2ms/step - loss: 0.6249 - accuracy: 0.6576\n",
            "Epoch 11/50\n",
            "782/782 [==============================] - 1s 2ms/step - loss: 0.6238 - accuracy: 0.6577\n",
            "Epoch 12/50\n",
            "782/782 [==============================] - 1s 2ms/step - loss: 0.6229 - accuracy: 0.6584\n",
            "Epoch 13/50\n",
            "782/782 [==============================] - 1s 2ms/step - loss: 0.6220 - accuracy: 0.6594\n",
            "Epoch 14/50\n",
            "782/782 [==============================] - 1s 2ms/step - loss: 0.6212 - accuracy: 0.6600\n",
            "Epoch 15/50\n",
            "782/782 [==============================] - 1s 2ms/step - loss: 0.6204 - accuracy: 0.6607\n",
            "Epoch 16/50\n",
            "782/782 [==============================] - 1s 2ms/step - loss: 0.6199 - accuracy: 0.6619\n",
            "Epoch 17/50\n",
            "782/782 [==============================] - 1s 2ms/step - loss: 0.6192 - accuracy: 0.6620\n",
            "Epoch 18/50\n",
            "782/782 [==============================] - 1s 2ms/step - loss: 0.6187 - accuracy: 0.6625\n",
            "Epoch 19/50\n",
            "782/782 [==============================] - 1s 2ms/step - loss: 0.6181 - accuracy: 0.6623\n",
            "Epoch 20/50\n",
            "782/782 [==============================] - 1s 2ms/step - loss: 0.6176 - accuracy: 0.6636\n",
            "Epoch 21/50\n",
            "782/782 [==============================] - 1s 2ms/step - loss: 0.6171 - accuracy: 0.6639\n",
            "Epoch 22/50\n",
            "782/782 [==============================] - 1s 2ms/step - loss: 0.6167 - accuracy: 0.6647\n",
            "Epoch 23/50\n",
            "782/782 [==============================] - 1s 2ms/step - loss: 0.6163 - accuracy: 0.6655\n",
            "Epoch 24/50\n",
            "782/782 [==============================] - 1s 2ms/step - loss: 0.6159 - accuracy: 0.6645\n",
            "Epoch 25/50\n",
            "782/782 [==============================] - 1s 2ms/step - loss: 0.6155 - accuracy: 0.6654\n",
            "Epoch 26/50\n",
            "782/782 [==============================] - 1s 2ms/step - loss: 0.6151 - accuracy: 0.6658\n",
            "Epoch 27/50\n",
            "782/782 [==============================] - 1s 2ms/step - loss: 0.6147 - accuracy: 0.6660\n",
            "Epoch 28/50\n",
            "782/782 [==============================] - 1s 2ms/step - loss: 0.6144 - accuracy: 0.6656\n",
            "Epoch 29/50\n",
            "782/782 [==============================] - 1s 2ms/step - loss: 0.6141 - accuracy: 0.6670\n",
            "Epoch 30/50\n",
            "782/782 [==============================] - 2s 2ms/step - loss: 0.6138 - accuracy: 0.6666\n",
            "Epoch 31/50\n",
            "782/782 [==============================] - 1s 2ms/step - loss: 0.6135 - accuracy: 0.6676\n",
            "Epoch 32/50\n",
            "782/782 [==============================] - 1s 2ms/step - loss: 0.6133 - accuracy: 0.6671\n",
            "Epoch 33/50\n",
            "782/782 [==============================] - 1s 2ms/step - loss: 0.6130 - accuracy: 0.6680\n",
            "Epoch 34/50\n",
            "782/782 [==============================] - 1s 2ms/step - loss: 0.6127 - accuracy: 0.6676\n",
            "Epoch 35/50\n",
            "782/782 [==============================] - 1s 2ms/step - loss: 0.6124 - accuracy: 0.6683\n",
            "Epoch 36/50\n",
            "782/782 [==============================] - 1s 2ms/step - loss: 0.6122 - accuracy: 0.6684\n",
            "Epoch 37/50\n",
            "782/782 [==============================] - 1s 2ms/step - loss: 0.6120 - accuracy: 0.6684\n",
            "Epoch 38/50\n",
            "782/782 [==============================] - 1s 2ms/step - loss: 0.6117 - accuracy: 0.6684\n",
            "Epoch 39/50\n",
            "782/782 [==============================] - 1s 2ms/step - loss: 0.6115 - accuracy: 0.6685\n",
            "Epoch 40/50\n",
            "782/782 [==============================] - 1s 2ms/step - loss: 0.6113 - accuracy: 0.6686\n",
            "Epoch 41/50\n",
            "782/782 [==============================] - 1s 2ms/step - loss: 0.6111 - accuracy: 0.6692\n",
            "Epoch 42/50\n",
            "782/782 [==============================] - 1s 2ms/step - loss: 0.6108 - accuracy: 0.6695\n",
            "Epoch 43/50\n",
            "782/782 [==============================] - 1s 2ms/step - loss: 0.6107 - accuracy: 0.6693\n",
            "Epoch 44/50\n",
            "782/782 [==============================] - 1s 2ms/step - loss: 0.6104 - accuracy: 0.6697\n",
            "Epoch 45/50\n",
            "782/782 [==============================] - 1s 2ms/step - loss: 0.6102 - accuracy: 0.6700\n",
            "Epoch 46/50\n",
            "782/782 [==============================] - 1s 2ms/step - loss: 0.6101 - accuracy: 0.6700\n",
            "Epoch 47/50\n",
            "782/782 [==============================] - 1s 2ms/step - loss: 0.6099 - accuracy: 0.6707\n",
            "Epoch 48/50\n",
            "782/782 [==============================] - 1s 2ms/step - loss: 0.6097 - accuracy: 0.6707\n",
            "Epoch 49/50\n",
            "782/782 [==============================] - 1s 2ms/step - loss: 0.6095 - accuracy: 0.6706\n",
            "Epoch 50/50\n",
            "782/782 [==============================] - 1s 2ms/step - loss: 0.6093 - accuracy: 0.6710\n"
          ]
        },
        {
          "output_type": "execute_result",
          "data": {
            "text/plain": [
              "<keras.callbacks.History at 0x7f66b2499b10>"
            ]
          },
          "metadata": {},
          "execution_count": 6
        }
      ]
    },
    {
      "cell_type": "code",
      "source": [
        ""
      ],
      "metadata": {
        "id": "4g0wsbtLTQRp"
      },
      "execution_count": null,
      "outputs": []
    }
  ]
}